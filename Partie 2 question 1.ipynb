import pandas as pd 
import numpy as np
import seaborn as sns 
import matplotlib.pyplot as plt
import re

artists=pd.read_csv(r"C:\Users\Admin\Downloads\Project\artists.csv")
top200=pd.read_csv(r"C:\Users\Admin\Downloads\Project\spotify_top200_global.csv")
tracks=pd.read_csv(r"C:\Users\Admin\Downloads\Project\tracks.csv")

def Artiste_info ():
    #Format column artists 
    tracks['artists'] = tracks['artists'].str.replace(r'[^a-z0-9\s]','', regex = True, flags = re.IGNORECASE)
    
    #Changer format de release_date 
    tracks["release_date"]=pd.to_datetime(tracks["release_date"], format = "%Y-%m-%d")
    
    #Artistes les plus populaires
    top_artists = pd.DataFrame(top200.groupby('Artist')['Title'].nunique().sort_values(ascending = False).reset_index(name = 'Count'))

    nom_artiste = input(str("Saisir le nom d'artiste: ")).lower()
    
    artists['name'] = artists['name'].str.lower()
    print('Le nombre d’abonnés est', int(artists.loc[artists['name'] == nom_artiste, 'followers']))
    
    tracks['artists'] = tracks['artists'].str.lower()
    
    top_chansons_populaires = tracks.loc[tracks['artists']== nom_artiste].sort_values('popularity',ascending = False)
    print('Les 3 chansons les plus populaires sont', top_chansons_populaires.iloc[0,1], ',', top_chansons_populaires.iloc[1,1], ',', top_chansons_populaires.iloc[2,1])
    
    top_chansons_recentes = tracks.loc[tracks['artists']== nom_artiste].sort_values('release_date',ascending = False)
    print('Les 3 chansons les plus récentes sont', top_chansons_recentes.iloc[0,1], ',', top_chansons_recentes.iloc[1,1], ',', top_chansons_recentes.iloc[2,1])
    
    top200['Artist'] = top200['Artist'].str.lower()
    top_artists['Artist'] = top_artists['Artist'].str.lower()
                                    
    if nom_artiste not in top200.values:
        print(nom_artiste.title(), 'n’a aucune chanson dans le top 200 global de 2020')
    else: 
        artiste_top200 = top_artists.loc[top_artists['Artist'] == nom_artiste]
        print('Le nombre de chansons que',nom_artiste.title(), 'a dans le top 200 global de 2020 est', str(top_artists.iloc[0,1]))
        
Artiste_info()